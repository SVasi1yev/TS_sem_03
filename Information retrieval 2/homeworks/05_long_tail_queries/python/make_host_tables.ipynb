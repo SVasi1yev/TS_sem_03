{
 "cells": [
  {
   "cell_type": "code",
   "execution_count": 1,
   "metadata": {},
   "outputs": [],
   "source": [
    "from tqdm import tqdm"
   ]
  },
  {
   "cell_type": "code",
   "execution_count": 2,
   "metadata": {},
   "outputs": [
    {
     "name": "stdout",
     "output_type": "stream",
     "text": [
      "1\t\t     make_host_tables.ipynb  test_host.csv\t       url.data\r\n",
      "2\t\t     predict.ipynb\t     test_query_features.tsv   url_host\r\n",
      "catboost_info\t     queries.tsv\t     train_host.tsv\r\n",
      "global_features.tsv  sample.csv\t\t     train.marks.tsv\r\n",
      "host.data\t     sub_cat.txt\t     train_query_features.tsv\r\n"
     ]
    }
   ],
   "source": [
    "!ls"
   ]
  },
  {
   "cell_type": "code",
   "execution_count": 3,
   "metadata": {},
   "outputs": [
    {
     "name": "stderr",
     "output_type": "stream",
     "text": [
      "582167it [00:06, 93368.62it/s] \n"
     ]
    }
   ],
   "source": [
    "from urllib.parse import urlparse, urlsplit\n",
    "import tldextract\n",
    "with open('url.data', 'r') as url_file, open('host.data', 'w') as host_file, open('url_host', 'w') as url_host_file:\n",
    "    counter = 0\n",
    "    host_dict = {}\n",
    "    for line in tqdm(url_file):\n",
    "        line = line.strip()\n",
    "        splited = line.split('\\t')\n",
    "        url_id = int(splited[0])\n",
    "        url = splited[1]\n",
    "        tld = tldextract.extract(url)\n",
    "        if tld.subdomain == '':\n",
    "            subdomain = ''\n",
    "        else:\n",
    "            subdomain = tld.subdomain + '.'\n",
    "        \n",
    "        if tld.suffix == '':\n",
    "            suffix = ''\n",
    "        else:\n",
    "            suffix = '.' + tld.suffix\n",
    "        host = subdomain + tld.domain + suffix\n",
    "        if host[:4] == 'www.':\n",
    "            host = host[4:]\n",
    "        if host not in host_dict:\n",
    "            host_dict[host] = counter\n",
    "            host_file.write(str(counter) + '\\t' + host + '\\n')\n",
    "            url_host_file.write(str(url_id) + '\\t' + str(counter) + '\\n')\n",
    "            counter += 1\n",
    "        else:\n",
    "            host_id = host_dict[host]\n",
    "            url_host_file.write(str(url_id) + '\\t' + str(host_id) + '\\n')\n",
    "#     break"
   ]
  },
  {
   "cell_type": "code",
   "execution_count": 4,
   "metadata": {},
   "outputs": [
    {
     "name": "stderr",
     "output_type": "stream",
     "text": [
      "582167it [00:00, 973087.65it/s]\n"
     ]
    }
   ],
   "source": [
    "url_host_dict = {}\n",
    "with open('url_host', 'r') as f:\n",
    "    for line in tqdm(f):\n",
    "        line = line.strip()\n",
    "        splited = line.split('\\t')\n",
    "        url_id = splited[0]\n",
    "        host_id = splited[1]\n",
    "        url_host_dict[url_id] = host_id"
   ]
  },
  {
   "cell_type": "code",
   "execution_count": 5,
   "metadata": {},
   "outputs": [
    {
     "name": "stderr",
     "output_type": "stream",
     "text": [
      "202079it [00:00, 623312.35it/s]\n"
     ]
    }
   ],
   "source": [
    "with open('train.marks.tsv', 'r') as train_url_file, open('train_host.tsv', 'w') as train_host_file:\n",
    "    for line in tqdm(train_url_file):\n",
    "        line = line.strip()\n",
    "        splited = line.split('\\t')\n",
    "        query_id = splited[0]\n",
    "        url_id = splited[1]\n",
    "        host_id = url_host_dict[url_id]\n",
    "        train_host_file.write(query_id + '\\t' + host_id + '\\n')"
   ]
  },
  {
   "cell_type": "code",
   "execution_count": 6,
   "metadata": {},
   "outputs": [
    {
     "name": "stderr",
     "output_type": "stream",
     "text": [
      "403971it [00:00, 640538.17it/s]\n"
     ]
    }
   ],
   "source": [
    "with open('sample.csv', 'r') as test_url_file, open('test_host.csv', 'w') as test_host_file:\n",
    "    line = test_url_file.readline()\n",
    "    test_host_file.write(line)\n",
    "    for line in tqdm(test_url_file):\n",
    "        line = line.strip()\n",
    "        splited = line.split(',')\n",
    "        query_id = splited[0]\n",
    "        url_id = splited[1]\n",
    "        host_id = url_host_dict[url_id]\n",
    "        test_host_file.write(query_id + ',' + host_id + '\\n')"
   ]
  }
 ],
 "metadata": {
  "kernelspec": {
   "display_name": "Python 3",
   "language": "python",
   "name": "python3"
  },
  "language_info": {
   "codemirror_mode": {
    "name": "ipython",
    "version": 3
   },
   "file_extension": ".py",
   "mimetype": "text/x-python",
   "name": "python",
   "nbconvert_exporter": "python",
   "pygments_lexer": "ipython3",
   "version": "3.7.5"
  }
 },
 "nbformat": 4,
 "nbformat_minor": 2
}
