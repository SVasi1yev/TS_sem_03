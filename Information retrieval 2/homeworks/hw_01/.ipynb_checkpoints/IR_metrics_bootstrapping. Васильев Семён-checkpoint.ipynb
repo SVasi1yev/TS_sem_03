{
 "cells": [
  {
   "cell_type": "code",
   "execution_count": 1,
   "metadata": {},
   "outputs": [],
   "source": [
    "import numpy as np\n",
    "from functools import reduce\n",
    "from operator import add\n",
    "from scipy import stats\n",
    "from random import randint"
   ]
  },
  {
   "cell_type": "code",
   "execution_count": 2,
   "metadata": {},
   "outputs": [
    {
     "name": "stdout",
     "output_type": "stream",
     "text": [
      "data  IR_metrics_bootstrapping.ipynb\r\n"
     ]
    }
   ],
   "source": [
    "!ls"
   ]
  },
  {
   "cell_type": "code",
   "execution_count": 3,
   "metadata": {},
   "outputs": [],
   "source": [
    "def read_data(file_name):\n",
    "    res = []\n",
    "    with open(file_name, 'r') as f:\n",
    "        for line in f:\n",
    "            res.append(list(map(int, line.split())))\n",
    "    return res"
   ]
  },
  {
   "cell_type": "code",
   "execution_count": 4,
   "metadata": {},
   "outputs": [],
   "source": [
    "f1_name = 'data/c1.txt'\n",
    "f2_name = 'data/c2.txt' "
   ]
  },
  {
   "cell_type": "code",
   "execution_count": 5,
   "metadata": {},
   "outputs": [],
   "source": [
    "data1 = read_data(f1_name)\n",
    "data2 = read_data(f2_name)"
   ]
  },
  {
   "cell_type": "code",
   "execution_count": 6,
   "metadata": {},
   "outputs": [],
   "source": [
    "def count_CTR(data, step=1000):\n",
    "    res = []\n",
    "    for i in range(0, len(data), step):\n",
    "        res.append(\n",
    "            reduce(\n",
    "                add,\n",
    "                map(\n",
    "                    lambda arr: int(1 in arr), \n",
    "                    data[i: i+step])\n",
    "            ) / step\n",
    "        )\n",
    "    return res"
   ]
  },
  {
   "cell_type": "code",
   "execution_count": 7,
   "metadata": {},
   "outputs": [],
   "source": [
    "def count_clicks_in_top(data, step=1000):\n",
    "    res = []\n",
    "    for i in range(0, len(data), step):\n",
    "        res.append(\n",
    "            reduce(\n",
    "                add,\n",
    "                map(\n",
    "                    lambda arr: int(arr[0] == 1), \n",
    "                    data[i: i+step])\n",
    "            ) / step\n",
    "        )\n",
    "    return res"
   ]
  },
  {
   "cell_type": "code",
   "execution_count": 8,
   "metadata": {},
   "outputs": [],
   "source": [
    "CTR1 = count_CTR(data1)\n",
    "CTR2 = count_CTR(data2)"
   ]
  },
  {
   "cell_type": "code",
   "execution_count": 27,
   "metadata": {},
   "outputs": [
    {
     "name": "stdout",
     "output_type": "stream",
     "text": [
      "1.0\n"
     ]
    }
   ],
   "source": [
    "ITER_NUM = 1000\n",
    "count = 0\n",
    "for i in range(ITER_NUM):\n",
    "    samp1, samp2 = [], []\n",
    "    for j in range(len(CTR1)):\n",
    "        samp1.append(CTR1[randint(0, len(CTR1)-1)])\n",
    "        samp2.append(CTR2[randint(0, len(CTR2)-1)])\n",
    "    if stats.ttest_ind(samp1, samp2).pvalue < 0.05:\n",
    "        count += 1\n",
    "print(count / ITER_NUM)"
   ]
  },
  {
   "cell_type": "code",
   "execution_count": null,
   "metadata": {},
   "outputs": [],
   "source": []
  }
 ],
 "metadata": {
  "kernelspec": {
   "display_name": "Python 3",
   "language": "python",
   "name": "python3"
  },
  "language_info": {
   "codemirror_mode": {
    "name": "ipython",
    "version": 3
   },
   "file_extension": ".py",
   "mimetype": "text/x-python",
   "name": "python",
   "nbconvert_exporter": "python",
   "pygments_lexer": "ipython3",
   "version": "3.7.5"
  }
 },
 "nbformat": 4,
 "nbformat_minor": 2
}
