{
 "cells": [
  {
   "cell_type": "code",
   "execution_count": 1,
   "metadata": {},
   "outputs": [],
   "source": [
    "import numpy as np\n",
    "from cart import CART\n",
    "from sklearn.datasets import load_boston\n",
    "from sklearn.tree import DecisionTreeRegressor\n",
    "from gradient_boosting import GradientBoosting\n",
    "from sklearn.ensemble import GradientBoostingRegressor\n",
    "from sklearn.linear_model import LinearRegression"
   ]
  },
  {
   "cell_type": "code",
   "execution_count": 2,
   "metadata": {},
   "outputs": [],
   "source": [
    "def mse(pred, true):\n",
    "    pred = np.array(pred)\n",
    "    true = np.array(true)\n",
    "    return np.mean((pred - true) ** 2)"
   ]
  },
  {
   "cell_type": "code",
   "execution_count": 3,
   "metadata": {},
   "outputs": [],
   "source": [
    "X_, y_ = load_boston(True)"
   ]
  },
  {
   "cell_type": "code",
   "execution_count": 4,
   "metadata": {},
   "outputs": [],
   "source": [
    "X_train_, y_train_ = X_[:400], y_[:400]\n",
    "X_test_, y_test_ = X_[400:], y_[400:]"
   ]
  },
  {
   "cell_type": "code",
   "execution_count": 5,
   "metadata": {},
   "outputs": [],
   "source": [
    "my_model_ = GradientBoosting(\n",
    "    n_estimators=100, learning_rate=0.1, \n",
    "    subsamples=1.0, max_depth=5\n",
    ")\n",
    "skl_model_ = GradientBoostingRegressor(\n",
    "    n_estimators=100, learning_rate=0.1,\n",
    "    subsample=1.0, max_depth=5,\n",
    "    criterion='mse'\n",
    ")"
   ]
  },
  {
   "cell_type": "code",
   "execution_count": 6,
   "metadata": {},
   "outputs": [
    {
     "name": "stderr",
     "output_type": "stream",
     "text": [
      "100%|██████████| 100/100 [00:01<00:00, 53.10it/s]"
     ]
    },
    {
     "name": "stdout",
     "output_type": "stream",
     "text": [
      "CPU times: user 1.89 s, sys: 3.99 ms, total: 1.9 s\n",
      "Wall time: 1.89 s\n"
     ]
    },
    {
     "name": "stderr",
     "output_type": "stream",
     "text": [
      "\n"
     ]
    }
   ],
   "source": [
    "%%time\n",
    "my_model_.fit(X_train_, y_train_)"
   ]
  },
  {
   "cell_type": "code",
   "execution_count": 7,
   "metadata": {},
   "outputs": [
    {
     "name": "stdout",
     "output_type": "stream",
     "text": [
      "CPU times: user 99 ms, sys: 101 µs, total: 99.1 ms\n",
      "Wall time: 97 ms\n"
     ]
    },
    {
     "data": {
      "text/plain": [
       "GradientBoostingRegressor(alpha=0.9, criterion='mse', init=None,\n",
       "                          learning_rate=0.1, loss='ls', max_depth=5,\n",
       "                          max_features=None, max_leaf_nodes=None,\n",
       "                          min_impurity_decrease=0.0, min_impurity_split=None,\n",
       "                          min_samples_leaf=1, min_samples_split=2,\n",
       "                          min_weight_fraction_leaf=0.0, n_estimators=100,\n",
       "                          n_iter_no_change=None, presort='auto',\n",
       "                          random_state=None, subsample=1.0, tol=0.0001,\n",
       "                          validation_fraction=0.1, verbose=0, warm_start=False)"
      ]
     },
     "execution_count": 7,
     "metadata": {},
     "output_type": "execute_result"
    }
   ],
   "source": [
    "%%time\n",
    "skl_model_.fit(X_train_, y_train_)"
   ]
  },
  {
   "cell_type": "code",
   "execution_count": 8,
   "metadata": {},
   "outputs": [
    {
     "name": "stdout",
     "output_type": "stream",
     "text": [
      "CPU times: user 37.8 ms, sys: 59 µs, total: 37.8 ms\n",
      "Wall time: 36.7 ms\n"
     ]
    }
   ],
   "source": [
    "%%time\n",
    "my_pred_ = my_model_.predict(X_test_)"
   ]
  },
  {
   "cell_type": "code",
   "execution_count": 9,
   "metadata": {},
   "outputs": [
    {
     "name": "stdout",
     "output_type": "stream",
     "text": [
      "CPU times: user 895 µs, sys: 0 ns, total: 895 µs\n",
      "Wall time: 668 µs\n"
     ]
    }
   ],
   "source": [
    "%%time\n",
    "skl_pred_ = skl_model_.predict(X_test_)"
   ]
  },
  {
   "cell_type": "code",
   "execution_count": 10,
   "metadata": {},
   "outputs": [
    {
     "name": "stdout",
     "output_type": "stream",
     "text": [
      "my_mse_g: 21.737384091983856\n",
      "skl_mse_g: 20.335808969192453\n"
     ]
    }
   ],
   "source": [
    "print('my_mse_g:', mse(my_pred_, y_test_))\n",
    "print('skl_mse_g:', mse(skl_pred_, y_test_))"
   ]
  },
  {
   "cell_type": "code",
   "execution_count": 11,
   "metadata": {},
   "outputs": [],
   "source": [
    "def read_data(file, num_samples, num_features):\n",
    "    x = np.zeros((num_samples, num_features))\n",
    "    y = np.empty(num_samples)\n",
    "    with open(file, 'r') as f:\n",
    "        for idx, line in enumerate(f):\n",
    "            data = line.split()\n",
    "            y[idx] = float(data[0])\n",
    "            data = data[1:]\n",
    "            for e in data:\n",
    "                t = e.split(':')\n",
    "                f_idx, f_value = int(t[0]), float(t[1])\n",
    "                x[idx, f_idx-1] = f_value\n",
    "    return x, y"
   ]
  },
  {
   "cell_type": "code",
   "execution_count": 12,
   "metadata": {},
   "outputs": [],
   "source": [
    "X_train, y_train = read_data('reg.train.txt', 7200, 245)"
   ]
  },
  {
   "cell_type": "code",
   "execution_count": 13,
   "metadata": {},
   "outputs": [],
   "source": [
    "X_test, y_test = read_data('reg.test.txt', 10050, 245)"
   ]
  },
  {
   "cell_type": "code",
   "execution_count": 14,
   "metadata": {},
   "outputs": [],
   "source": [
    "my_model = GradientBoosting(\n",
    "    n_estimators=1000, learning_rate=0.01, max_features=245,\n",
    "    subsamples=0.6, max_depth=3, min_leaf_size=100\n",
    ")\n",
    "skl_model = GradientBoostingRegressor(\n",
    "    n_estimators=1000, learning_rate=0.01, max_features=245,\n",
    "    subsample=0.6, max_depth=3, min_samples_leaf=100,\n",
    "    criterion='mse', verbose=1\n",
    ")"
   ]
  },
  {
   "cell_type": "code",
   "execution_count": 15,
   "metadata": {},
   "outputs": [
    {
     "name": "stderr",
     "output_type": "stream",
     "text": [
      "100%|██████████| 1000/1000 [06:12<00:00,  2.68it/s]"
     ]
    },
    {
     "name": "stdout",
     "output_type": "stream",
     "text": [
      "CPU times: user 16min 9s, sys: 13.5 s, total: 16min 23s\n",
      "Wall time: 6min 12s\n"
     ]
    },
    {
     "name": "stderr",
     "output_type": "stream",
     "text": [
      "\n"
     ]
    }
   ],
   "source": [
    "%%time\n",
    "my_model.fit(X_train, y_train)"
   ]
  },
  {
   "cell_type": "code",
   "execution_count": 16,
   "metadata": {},
   "outputs": [
    {
     "name": "stdout",
     "output_type": "stream",
     "text": [
      "      Iter       Train Loss      OOB Improve   Remaining Time \n",
      "         1           0.8177           0.0035            1.11m\n",
      "         2           0.8193           0.0033            1.20m\n",
      "         3           0.8308           0.0032            1.21m\n",
      "         4           0.8129           0.0034            1.21m\n",
      "         5           0.8182           0.0031            1.18m\n",
      "         6           0.7960           0.0033            1.19m\n",
      "         7           0.8062           0.0028            1.19m\n",
      "         8           0.7744           0.0031            1.18m\n",
      "         9           0.7870           0.0030            1.19m\n",
      "        10           0.7721           0.0031            1.19m\n",
      "        20           0.7499           0.0025            1.13m\n",
      "        30           0.7308           0.0023            1.09m\n",
      "        40           0.7033           0.0018            1.06m\n",
      "        50           0.7064           0.0015            1.04m\n",
      "        60           0.6843           0.0012            1.03m\n",
      "        70           0.6656           0.0011            1.01m\n",
      "        80           0.6438           0.0011           60.00s\n",
      "        90           0.6489           0.0009           59.17s\n",
      "       100           0.6377           0.0007           58.35s\n",
      "       200           0.5643           0.0003           50.17s\n",
      "       300           0.5491           0.0001           43.04s\n",
      "       400           0.5349           0.0001           36.43s\n",
      "       500           0.5192           0.0000           30.14s\n",
      "       600           0.5024          -0.0000           24.00s\n",
      "       700           0.4995          -0.0000           17.91s\n",
      "       800           0.4836          -0.0000           11.91s\n",
      "       900           0.4786           0.0001            5.94s\n",
      "      1000           0.4739          -0.0000            0.00s\n",
      "CPU times: user 59.3 s, sys: 11.5 ms, total: 59.3 s\n",
      "Wall time: 59.3 s\n"
     ]
    },
    {
     "data": {
      "text/plain": [
       "GradientBoostingRegressor(alpha=0.9, criterion='mse', init=None,\n",
       "                          learning_rate=0.01, loss='ls', max_depth=3,\n",
       "                          max_features=245, max_leaf_nodes=None,\n",
       "                          min_impurity_decrease=0.0, min_impurity_split=None,\n",
       "                          min_samples_leaf=100, min_samples_split=2,\n",
       "                          min_weight_fraction_leaf=0.0, n_estimators=1000,\n",
       "                          n_iter_no_change=None, presort='auto',\n",
       "                          random_state=None, subsample=0.6, tol=0.0001,\n",
       "                          validation_fraction=0.1, verbose=1, warm_start=False)"
      ]
     },
     "execution_count": 16,
     "metadata": {},
     "output_type": "execute_result"
    }
   ],
   "source": [
    "%%time\n",
    "skl_model.fit(X_train, y_train)"
   ]
  },
  {
   "cell_type": "code",
   "execution_count": 17,
   "metadata": {},
   "outputs": [
    {
     "name": "stdout",
     "output_type": "stream",
     "text": [
      "CPU times: user 17.5 s, sys: 3.84 ms, total: 17.6 s\n",
      "Wall time: 17.5 s\n"
     ]
    }
   ],
   "source": [
    "%%time\n",
    "my_pred_test = my_model.predict(X_test)"
   ]
  },
  {
   "cell_type": "code",
   "execution_count": 18,
   "metadata": {},
   "outputs": [
    {
     "name": "stdout",
     "output_type": "stream",
     "text": [
      "CPU times: user 340 ms, sys: 45 µs, total: 340 ms\n",
      "Wall time: 336 ms\n"
     ]
    }
   ],
   "source": [
    "%%time\n",
    "skl_pred_test = skl_model.predict(X_test)"
   ]
  },
  {
   "cell_type": "code",
   "execution_count": 19,
   "metadata": {},
   "outputs": [
    {
     "name": "stdout",
     "output_type": "stream",
     "text": [
      "CPU times: user 12.6 s, sys: 0 ns, total: 12.6 s\n",
      "Wall time: 12.6 s\n"
     ]
    }
   ],
   "source": [
    "%%time\n",
    "my_pred_train = my_model.predict(X_train)"
   ]
  },
  {
   "cell_type": "code",
   "execution_count": 20,
   "metadata": {},
   "outputs": [
    {
     "name": "stdout",
     "output_type": "stream",
     "text": [
      "CPU times: user 217 ms, sys: 3.91 ms, total: 221 ms\n",
      "Wall time: 219 ms\n"
     ]
    }
   ],
   "source": [
    "%%time\n",
    "skl_pred_train = skl_model.predict(X_train)"
   ]
  },
  {
   "cell_type": "code",
   "execution_count": 21,
   "metadata": {},
   "outputs": [
    {
     "name": "stdout",
     "output_type": "stream",
     "text": [
      "my_mse_train: 0.46759467199452237\n",
      "skl_mse_train: 0.46833857974951476\n"
     ]
    }
   ],
   "source": [
    "print('my_mse_train:', mse(my_pred_train, y_train))\n",
    "print('skl_mse_train:', mse(skl_pred_train, y_train))"
   ]
  },
  {
   "cell_type": "code",
   "execution_count": 22,
   "metadata": {},
   "outputs": [
    {
     "name": "stdout",
     "output_type": "stream",
     "text": [
      "my_mse_test: 0.7705945892021622\n",
      "skl_mse_test: 0.77127651288706\n"
     ]
    }
   ],
   "source": [
    "print('my_mse_test:', mse(my_pred_test, y_test))\n",
    "print('skl_mse_test:', mse(skl_pred_test, y_test))"
   ]
  },
  {
   "cell_type": "code",
   "execution_count": 23,
   "metadata": {},
   "outputs": [],
   "source": [
    "import matplotlib.pyplot as plt"
   ]
  },
  {
   "cell_type": "code",
   "execution_count": 38,
   "metadata": {},
   "outputs": [
    {
     "data": {
      "text/plain": [
       "<matplotlib.legend.Legend at 0x7f35d83b6510>"
      ]
     },
     "execution_count": 38,
     "metadata": {},
     "output_type": "execute_result"
    },
    {
     "data": {
      "image/png": "[encoded data removed]",
      "text/plain": [
       "<Figure size 1008x576 with 1 Axes>"
      ]
     },
     "metadata": {
      "needs_background": "light"
     },
     "output_type": "display_data"
    }
   ],
   "source": [
    "plt.figure(figsize=(14, 8))\n",
    "plt.plot(skl_model.train_score_, label='sklearn', linewidth=2)\n",
    "plt.plot(my_model.loss_by_iter, label='my_gb', linewidth=3)\n",
    "plt.legend(fontsize='xx-large')"
   ]
  },
  {
   "cell_type": "code",
   "execution_count": null,
   "metadata": {},
   "outputs": [],
   "source": []
  }
 ],
 "metadata": {
  "kernelspec": {
   "display_name": "Python 3",
   "language": "python",
   "name": "python3"
  },
  "language_info": {
   "codemirror_mode": {
    "name": "ipython",
    "version": 3
   },
   "file_extension": ".py",
   "mimetype": "text/x-python",
   "name": "python",
   "nbconvert_exporter": "python",
   "pygments_lexer": "ipython3",
   "version": "3.7.5"
  }
 },
 "nbformat": 4,
 "nbformat_minor": 2
}
