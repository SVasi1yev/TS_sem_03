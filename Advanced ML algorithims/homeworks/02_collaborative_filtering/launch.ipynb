{
 "cells": [
  {
   "cell_type": "code",
   "execution_count": 1,
   "metadata": {},
   "outputs": [],
   "source": [
    "import numpy as np\n",
    "from IALS import IALS"
   ]
  },
  {
   "cell_type": "code",
   "execution_count": 2,
   "metadata": {},
   "outputs": [
    {
     "name": "stdout",
     "output_type": "stream",
     "text": [
      "IALS.py\t\t\t\t    np_train.npy     sub_bag.txt\r\n",
      "movie-recomendation-ts-spring-2020  np_valid.npy     Untitled.ipynb\r\n",
      "np_full_train.npy\t\t    preproc_data.py\r\n",
      "np_test.npy\t\t\t    __pycache__\r\n"
     ]
    }
   ],
   "source": [
    "!ls"
   ]
  },
  {
   "cell_type": "code",
   "execution_count": 3,
   "metadata": {},
   "outputs": [],
   "source": [
    "full_train = np.load(\"np_full_train.npy\")\n",
    "train = np.load(\"np_train.npy\")\n",
    "valid = np.load(\"np_valid.npy\")\n",
    "test = np.load(\"np_test.npy\")"
   ]
  },
  {
   "cell_type": "code",
   "execution_count": 4,
   "metadata": {},
   "outputs": [
    {
     "data": {
      "text/plain": [
       "(943, 1682)"
      ]
     },
     "execution_count": 4,
     "metadata": {},
     "output_type": "execute_result"
    }
   ],
   "source": [
    "train.shape"
   ]
  },
  {
   "cell_type": "code",
   "execution_count": 5,
   "metadata": {},
   "outputs": [
    {
     "data": {
      "text/plain": [
       "(943, 1682)"
      ]
     },
     "execution_count": 5,
     "metadata": {},
     "output_type": "execute_result"
    }
   ],
   "source": [
    "test.shape"
   ]
  },
  {
   "cell_type": "code",
   "execution_count": 6,
   "metadata": {},
   "outputs": [],
   "source": [
    "models = [\n",
    "    IALS(embedding_size=3, alpha=55, lambda_=5, eps=.11),\n",
    "    IALS(embedding_size=5, alpha=30, lambda_=6, eps=.13),\n",
    "    IALS(embedding_size=6, alpha=45, lambda_=7, eps=.15),\n",
    "    IALS(embedding_size=9, alpha=28, lambda_=3, eps=.15),\n",
    "    IALS(embedding_size=12, alpha=35, lambda_=3, eps=.13)\n",
    "]"
   ]
  },
  {
   "cell_type": "code",
   "execution_count": 7,
   "metadata": {
    "scrolled": false
   },
   "outputs": [
    {
     "name": "stdout",
     "output_type": "stream",
     "text": [
      "Epoch 0 --- TRAIN_ER: 0.9064601871388925 --- VALID_ER: None\n",
      "Epoch 1 --- TRAIN_ER: 0.8664428059777429 --- VALID_ER: None\n",
      "Epoch 2 --- TRAIN_ER: 0.8507981023889302 --- VALID_ER: None\n",
      "Epoch 3 --- TRAIN_ER: 0.8369522569731473 --- VALID_ER: None\n",
      "Epoch 4 --- TRAIN_ER: 0.8289001860222623 --- VALID_ER: None\n",
      "Epoch 5 --- TRAIN_ER: 0.8257691573050566 --- VALID_ER: None\n",
      "Epoch 6 --- TRAIN_ER: 0.8244519112087054 --- VALID_ER: None\n",
      "Epoch 7 --- TRAIN_ER: 0.8237419477239742 --- VALID_ER: None\n",
      "Epoch 8 --- TRAIN_ER: 0.823284357530513 --- VALID_ER: None\n",
      "Epoch 9 --- TRAIN_ER: 0.8229495981803984 --- VALID_ER: None\n",
      "Epoch 10 --- TRAIN_ER: 0.8226782991771728 --- VALID_ER: None\n",
      "Epoch 11 --- TRAIN_ER: 0.822438738141772 --- VALID_ER: None\n",
      "Epoch 12 --- TRAIN_ER: 0.8222170455689398 --- VALID_ER: None\n",
      "Epoch 13 --- TRAIN_ER: 0.8220111113897375 --- VALID_ER: None\n",
      "Epoch 14 --- TRAIN_ER: 0.8218166735118722 --- VALID_ER: None\n",
      "Epoch 15 --- TRAIN_ER: 0.8216270786381642 --- VALID_ER: None\n",
      "Epoch 16 --- TRAIN_ER: 0.8214395328818018 --- VALID_ER: None\n",
      "Epoch 17 --- TRAIN_ER: 0.8212525081882269 --- VALID_ER: None\n",
      "Epoch 18 --- TRAIN_ER: 0.8210668317434293 --- VALID_ER: None\n",
      "Epoch 19 --- TRAIN_ER: 0.8208828070688836 --- VALID_ER: None\n",
      "Epoch 20 --- TRAIN_ER: 0.8206998303644643 --- VALID_ER: None\n",
      "Epoch 21 --- TRAIN_ER: 0.8205204383223967 --- VALID_ER: None\n",
      "Epoch 22 --- TRAIN_ER: 0.8203546720135966 --- VALID_ER: None\n",
      "Epoch 23 --- TRAIN_ER: 0.8202130981015489 --- VALID_ER: None\n",
      "Epoch 24 --- TRAIN_ER: 0.8200946697894207 --- VALID_ER: None\n",
      "Epoch 25 --- TRAIN_ER: 0.8199888708731197 --- VALID_ER: None\n",
      "Epoch 26 --- TRAIN_ER: 0.8198800940915993 --- VALID_ER: None\n",
      "Epoch 27 --- TRAIN_ER: 0.8197539556979757 --- VALID_ER: None\n",
      "Epoch 28 --- TRAIN_ER: 0.8196049424054345 --- VALID_ER: None\n",
      "Epoch 29 --- TRAIN_ER: 0.8194511976355481 --- VALID_ER: None\n",
      "Epoch 30 --- TRAIN_ER: 0.8193203193177756 --- VALID_ER: None\n",
      "Epoch 31 --- TRAIN_ER: 0.8192244257124304 --- VALID_ER: None\n",
      "Epoch 32 --- TRAIN_ER: 0.8191608272221882 --- VALID_ER: None\n",
      "Epoch 33 --- TRAIN_ER: 0.8191213498168982 --- VALID_ER: None\n",
      "Epoch 34 --- TRAIN_ER: 0.819104173845616 --- VALID_ER: None\n",
      "Epoch 35 --- TRAIN_ER: 0.8191077421010662 --- VALID_ER: None\n",
      "Epoch 36 --- TRAIN_ER: 0.819132927119421 --- VALID_ER: None\n",
      "Epoch 37 --- TRAIN_ER: 0.8191790874395961 --- VALID_ER: None\n",
      "Epoch 38 --- TRAIN_ER: 0.81924409109811 --- VALID_ER: None\n",
      "Epoch 39 --- TRAIN_ER: 0.8193235878834216 --- VALID_ER: None\n",
      "Epoch 40 --- TRAIN_ER: 0.8194136539197244 --- VALID_ER: None\n",
      "Epoch 41 --- TRAIN_ER: 0.8195097459648177 --- VALID_ER: None\n",
      "Epoch 42 --- TRAIN_ER: 0.8196077863858644 --- VALID_ER: None\n",
      "Epoch 43 --- TRAIN_ER: 0.819704449694613 --- VALID_ER: None\n",
      "Epoch 44 --- TRAIN_ER: 0.8197973855884504 --- VALID_ER: None\n",
      "Epoch 45 --- TRAIN_ER: 0.8198848444299626 --- VALID_ER: None\n",
      "Epoch 46 --- TRAIN_ER: 0.8199657438534244 --- VALID_ER: None\n",
      "Epoch 47 --- TRAIN_ER: 0.8200395430534277 --- VALID_ER: None\n",
      "Epoch 48 --- TRAIN_ER: 0.8201060723726952 --- VALID_ER: None\n",
      "Epoch 49 --- TRAIN_ER: 0.8201654056625728 --- VALID_ER: None\n",
      "Epoch 50 --- TRAIN_ER: 0.8202179208743929 --- VALID_ER: None\n",
      "Epoch 51 --- TRAIN_ER: 0.8202640901305032 --- VALID_ER: None\n",
      "Epoch 52 --- TRAIN_ER: 0.8203044484662018 --- VALID_ER: None\n",
      "Epoch 53 --- TRAIN_ER: 0.8203395616430225 --- VALID_ER: None\n",
      "Epoch 54 --- TRAIN_ER: 0.8203699944975937 --- VALID_ER: None\n",
      "Epoch 55 --- TRAIN_ER: 0.8203962835451908 --- VALID_ER: None\n",
      "Epoch 56 --- TRAIN_ER: 0.8204189373493957 --- VALID_ER: None\n",
      "Epoch 57 --- TRAIN_ER: 0.8204384233471282 --- VALID_ER: None\n",
      "Epoch 58 --- TRAIN_ER: 0.8204551511508849 --- VALID_ER: None\n",
      "Epoch 59 --- TRAIN_ER: 0.820469504589167 --- VALID_ER: None\n",
      "Epoch 0 --- TRAIN_ER: 0.9105661012448079 --- VALID_ER: None\n",
      "Epoch 1 --- TRAIN_ER: 0.8601947176623892 --- VALID_ER: None\n",
      "Epoch 2 --- TRAIN_ER: 0.8292196584219232 --- VALID_ER: None\n",
      "Epoch 3 --- TRAIN_ER: 0.8162737194821165 --- VALID_ER: None\n",
      "Epoch 4 --- TRAIN_ER: 0.8104593731607241 --- VALID_ER: None\n",
      "Epoch 5 --- TRAIN_ER: 0.8075509707384946 --- VALID_ER: None\n",
      "Epoch 6 --- TRAIN_ER: 0.8058803524849225 --- VALID_ER: None\n",
      "Epoch 7 --- TRAIN_ER: 0.8048466395859653 --- VALID_ER: None\n",
      "Epoch 8 --- TRAIN_ER: 0.8041880000857664 --- VALID_ER: None\n",
      "Epoch 9 --- TRAIN_ER: 0.8037537556271901 --- VALID_ER: None\n",
      "Epoch 10 --- TRAIN_ER: 0.8034592027228439 --- VALID_ER: None\n",
      "Epoch 11 --- TRAIN_ER: 0.8032845681461335 --- VALID_ER: None\n",
      "Epoch 12 --- TRAIN_ER: 0.8032444876872151 --- VALID_ER: None\n",
      "Epoch 13 --- TRAIN_ER: 0.8033476296784687 --- VALID_ER: None\n",
      "Epoch 14 --- TRAIN_ER: 0.8035785061497989 --- VALID_ER: None\n",
      "Epoch 15 --- TRAIN_ER: 0.803902537858305 --- VALID_ER: None\n",
      "Epoch 16 --- TRAIN_ER: 0.8042757998359104 --- VALID_ER: None\n",
      "Epoch 17 --- TRAIN_ER: 0.8046500725002459 --- VALID_ER: None\n",
      "Epoch 18 --- TRAIN_ER: 0.8049835889499869 --- VALID_ER: None\n",
      "Epoch 19 --- TRAIN_ER: 0.8052530623542585 --- VALID_ER: None\n",
      "Epoch 20 --- TRAIN_ER: 0.805454887581316 --- VALID_ER: None\n",
      "Epoch 21 --- TRAIN_ER: 0.805598681172851 --- VALID_ER: None\n",
      "Epoch 22 --- TRAIN_ER: 0.8056987541225555 --- VALID_ER: None\n",
      "Epoch 23 --- TRAIN_ER: 0.805768563233098 --- VALID_ER: None\n",
      "Epoch 24 --- TRAIN_ER: 0.8058190481458863 --- VALID_ER: None\n",
      "Epoch 25 --- TRAIN_ER: 0.8058585856601823 --- VALID_ER: None\n",
      "Epoch 26 --- TRAIN_ER: 0.8058923997766484 --- VALID_ER: None\n",
      "Epoch 27 --- TRAIN_ER: 0.8059229928187558 --- VALID_ER: None\n",
      "Epoch 28 --- TRAIN_ER: 0.8059512857239083 --- VALID_ER: None\n",
      "Epoch 29 --- TRAIN_ER: 0.8059778509496295 --- VALID_ER: None\n",
      "Epoch 30 --- TRAIN_ER: 0.8060030645398286 --- VALID_ER: None\n",
      "Epoch 31 --- TRAIN_ER: 0.8060270725200883 --- VALID_ER: None\n",
      "Epoch 32 --- TRAIN_ER: 0.8060499623839588 --- VALID_ER: None\n",
      "Epoch 33 --- TRAIN_ER: 0.8060717914989457 --- VALID_ER: None\n",
      "Epoch 34 --- TRAIN_ER: 0.8060926006435074 --- VALID_ER: None\n",
      "Epoch 35 --- TRAIN_ER: 0.8061124259575808 --- VALID_ER: None\n",
      "Epoch 36 --- TRAIN_ER: 0.8061313021097982 --- VALID_ER: None\n",
      "Epoch 37 --- TRAIN_ER: 0.8061492628434516 --- VALID_ER: None\n",
      "Epoch 38 --- TRAIN_ER: 0.8061663059597935 --- VALID_ER: None\n",
      "Epoch 39 --- TRAIN_ER: 0.8061825037910525 --- VALID_ER: None\n",
      "Epoch 40 --- TRAIN_ER: 0.8061978942707493 --- VALID_ER: None\n",
      "Epoch 41 --- TRAIN_ER: 0.8062125139261892 --- VALID_ER: None\n",
      "Epoch 42 --- TRAIN_ER: 0.8062264002044542 --- VALID_ER: None\n",
      "Epoch 43 --- TRAIN_ER: 0.8062395907361836 --- VALID_ER: None\n",
      "Epoch 44 --- TRAIN_ER: 0.8062521217877422 --- VALID_ER: None\n",
      "Epoch 45 --- TRAIN_ER: 0.806264030113202 --- VALID_ER: None\n",
      "Epoch 46 --- TRAIN_ER: 0.8062753507765924 --- VALID_ER: None\n",
      "Epoch 47 --- TRAIN_ER: 0.8062861145015562 --- VALID_ER: None\n",
      "Epoch 48 --- TRAIN_ER: 0.8062963511711329 --- VALID_ER: None\n",
      "Epoch 49 --- TRAIN_ER: 0.8063060865774728 --- VALID_ER: None\n",
      "Epoch 50 --- TRAIN_ER: 0.8063153408226696 --- VALID_ER: None\n",
      "Epoch 51 --- TRAIN_ER: 0.8063241258053085 --- VALID_ER: None\n",
      "Epoch 52 --- TRAIN_ER: 0.8063324861090093 --- VALID_ER: None\n",
      "Epoch 53 --- TRAIN_ER: 0.8063404403579096 --- VALID_ER: None\n",
      "Epoch 54 --- TRAIN_ER: 0.806348008857852 --- VALID_ER: None\n",
      "Epoch 55 --- TRAIN_ER: 0.8063552117963937 --- VALID_ER: None\n",
      "Epoch 56 --- TRAIN_ER: 0.8063620670532318 --- VALID_ER: None\n",
      "Epoch 57 --- TRAIN_ER: 0.8063685918093185 --- VALID_ER: None\n",
      "Epoch 58 --- TRAIN_ER: 0.8063748025788797 --- VALID_ER: None\n",
      "Epoch 59 --- TRAIN_ER: 0.8063807152283332 --- VALID_ER: None\n",
      "Epoch 0 --- TRAIN_ER: 0.9071763487032573 --- VALID_ER: None\n",
      "Epoch 1 --- TRAIN_ER: 0.8424831388969808 --- VALID_ER: None\n",
      "Epoch 2 --- TRAIN_ER: 0.8087832353224372 --- VALID_ER: None\n",
      "Epoch 3 --- TRAIN_ER: 0.7945953662616483 --- VALID_ER: None\n",
      "Epoch 4 --- TRAIN_ER: 0.7888298258046841 --- VALID_ER: None\n",
      "Epoch 5 --- TRAIN_ER: 0.7858266202841067 --- VALID_ER: None\n",
      "Epoch 6 --- TRAIN_ER: 0.7839378170962745 --- VALID_ER: None\n",
      "Epoch 7 --- TRAIN_ER: 0.7826152020158916 --- VALID_ER: None\n",
      "Epoch 8 --- TRAIN_ER: 0.7816236381603037 --- VALID_ER: None\n",
      "Epoch 9 --- TRAIN_ER: 0.7808371123332788 --- VALID_ER: None\n",
      "Epoch 10 --- TRAIN_ER: 0.7801887316742357 --- VALID_ER: None\n",
      "Epoch 11 --- TRAIN_ER: 0.7796520409387019 --- VALID_ER: None\n",
      "Epoch 12 --- TRAIN_ER: 0.7792238372977842 --- VALID_ER: None\n",
      "Epoch 13 --- TRAIN_ER: 0.7789108113655077 --- VALID_ER: None\n",
      "Epoch 14 --- TRAIN_ER: 0.7787178516848127 --- VALID_ER: None\n",
      "Epoch 15 --- TRAIN_ER: 0.7786416262290324 --- VALID_ER: None\n"
     ]
    },
    {
     "name": "stdout",
     "output_type": "stream",
     "text": [
      "Epoch 16 --- TRAIN_ER: 0.7786681769718653 --- VALID_ER: None\n",
      "Epoch 17 --- TRAIN_ER: 0.7787783245935449 --- VALID_ER: None\n",
      "Epoch 18 --- TRAIN_ER: 0.7789467314461914 --- VALID_ER: None\n",
      "Epoch 19 --- TRAIN_ER: 0.7791444235774571 --- VALID_ER: None\n",
      "Epoch 20 --- TRAIN_ER: 0.7793510701089611 --- VALID_ER: None\n",
      "Epoch 21 --- TRAIN_ER: 0.779552899277288 --- VALID_ER: None\n",
      "Epoch 22 --- TRAIN_ER: 0.7797371857995331 --- VALID_ER: None\n",
      "Epoch 23 --- TRAIN_ER: 0.7798948318070666 --- VALID_ER: None\n",
      "Epoch 24 --- TRAIN_ER: 0.7800234318743071 --- VALID_ER: None\n",
      "Epoch 25 --- TRAIN_ER: 0.7801255847105572 --- VALID_ER: None\n",
      "Epoch 26 --- TRAIN_ER: 0.7802056352506275 --- VALID_ER: None\n",
      "Epoch 27 --- TRAIN_ER: 0.7802681250147947 --- VALID_ER: None\n",
      "Epoch 28 --- TRAIN_ER: 0.7803171635411855 --- VALID_ER: None\n",
      "Epoch 29 --- TRAIN_ER: 0.7803560347847047 --- VALID_ER: None\n",
      "Epoch 30 --- TRAIN_ER: 0.7803874792661836 --- VALID_ER: None\n",
      "Epoch 31 --- TRAIN_ER: 0.7804136515890959 --- VALID_ER: None\n",
      "Epoch 32 --- TRAIN_ER: 0.7804361582959154 --- VALID_ER: None\n",
      "Epoch 33 --- TRAIN_ER: 0.7804561266411365 --- VALID_ER: None\n",
      "Epoch 34 --- TRAIN_ER: 0.7804742313610454 --- VALID_ER: None\n",
      "Epoch 35 --- TRAIN_ER: 0.780491000580653 --- VALID_ER: None\n",
      "Epoch 36 --- TRAIN_ER: 0.7805066903794604 --- VALID_ER: None\n",
      "Epoch 37 --- TRAIN_ER: 0.7805214413178829 --- VALID_ER: None\n",
      "Epoch 38 --- TRAIN_ER: 0.7805353025120495 --- VALID_ER: None\n",
      "Epoch 39 --- TRAIN_ER: 0.7805483500204221 --- VALID_ER: None\n",
      "Epoch 40 --- TRAIN_ER: 0.7805606169849869 --- VALID_ER: None\n",
      "Epoch 41 --- TRAIN_ER: 0.780572131811642 --- VALID_ER: None\n",
      "Epoch 42 --- TRAIN_ER: 0.7805829232624789 --- VALID_ER: None\n",
      "Epoch 43 --- TRAIN_ER: 0.7805930219944055 --- VALID_ER: None\n",
      "Epoch 44 --- TRAIN_ER: 0.7806024606641531 --- VALID_ER: None\n",
      "Epoch 45 --- TRAIN_ER: 0.7806112734383085 --- VALID_ER: None\n",
      "Epoch 46 --- TRAIN_ER: 0.7806194542934517 --- VALID_ER: None\n",
      "Epoch 47 --- TRAIN_ER: 0.7806270570966588 --- VALID_ER: None\n",
      "Epoch 48 --- TRAIN_ER: 0.7806341448334918 --- VALID_ER: None\n",
      "Epoch 49 --- TRAIN_ER: 0.780640750167809 --- VALID_ER: None\n",
      "Epoch 50 --- TRAIN_ER: 0.7806469008194826 --- VALID_ER: None\n",
      "Epoch 51 --- TRAIN_ER: 0.7806526329510244 --- VALID_ER: None\n",
      "Epoch 52 --- TRAIN_ER: 0.7806579755824247 --- VALID_ER: None\n",
      "Epoch 53 --- TRAIN_ER: 0.7806629560782288 --- VALID_ER: None\n",
      "Epoch 54 --- TRAIN_ER: 0.7806676001187898 --- VALID_ER: None\n",
      "Epoch 55 --- TRAIN_ER: 0.7806719317122655 --- VALID_ER: None\n",
      "Epoch 56 --- TRAIN_ER: 0.7806759732294999 --- VALID_ER: None\n",
      "Epoch 57 --- TRAIN_ER: 0.7806797454737509 --- VALID_ER: None\n",
      "Epoch 58 --- TRAIN_ER: 0.7806832677504338 --- VALID_ER: None\n",
      "Epoch 59 --- TRAIN_ER: 0.7806865579462439 --- VALID_ER: None\n",
      "Epoch 0 --- TRAIN_ER: 0.8976215823511848 --- VALID_ER: None\n",
      "Epoch 1 --- TRAIN_ER: 0.7912790525737873 --- VALID_ER: None\n",
      "Epoch 2 --- TRAIN_ER: 0.7658862687198711 --- VALID_ER: None\n",
      "Epoch 3 --- TRAIN_ER: 0.7546249039978855 --- VALID_ER: None\n",
      "Epoch 4 --- TRAIN_ER: 0.7481768844452803 --- VALID_ER: None\n",
      "Epoch 5 --- TRAIN_ER: 0.7439667837300892 --- VALID_ER: None\n",
      "Epoch 6 --- TRAIN_ER: 0.7410361164494293 --- VALID_ER: None\n",
      "Epoch 7 --- TRAIN_ER: 0.738895908132535 --- VALID_ER: None\n",
      "Epoch 8 --- TRAIN_ER: 0.7372795510192967 --- VALID_ER: None\n",
      "Epoch 9 --- TRAIN_ER: 0.7360362845309986 --- VALID_ER: None\n",
      "Epoch 10 --- TRAIN_ER: 0.7350667531565334 --- VALID_ER: None\n",
      "Epoch 11 --- TRAIN_ER: 0.7342993600731125 --- VALID_ER: None\n",
      "Epoch 12 --- TRAIN_ER: 0.7336826035983199 --- VALID_ER: None\n",
      "Epoch 13 --- TRAIN_ER: 0.7331810798198121 --- VALID_ER: None\n",
      "Epoch 14 --- TRAIN_ER: 0.7327726441961038 --- VALID_ER: None\n",
      "Epoch 15 --- TRAIN_ER: 0.7324419805896911 --- VALID_ER: None\n",
      "Epoch 16 --- TRAIN_ER: 0.7321787097336412 --- VALID_ER: None\n",
      "Epoch 17 --- TRAIN_ER: 0.7319753223062567 --- VALID_ER: None\n",
      "Epoch 18 --- TRAIN_ER: 0.7318262788241074 --- VALID_ER: None\n",
      "Epoch 19 --- TRAIN_ER: 0.7317264954935083 --- VALID_ER: None\n",
      "Epoch 20 --- TRAIN_ER: 0.7316689936203454 --- VALID_ER: None\n",
      "Epoch 21 --- TRAIN_ER: 0.7316468059444212 --- VALID_ER: None\n",
      "Epoch 22 --- TRAIN_ER: 0.7316531772590472 --- VALID_ER: None\n",
      "Epoch 23 --- TRAIN_ER: 0.7316813426170666 --- VALID_ER: None\n",
      "Epoch 24 --- TRAIN_ER: 0.7317253585534568 --- VALID_ER: None\n",
      "Epoch 25 --- TRAIN_ER: 0.7317796204991501 --- VALID_ER: None\n",
      "Epoch 26 --- TRAIN_ER: 0.7318387439786856 --- VALID_ER: None\n",
      "Epoch 27 --- TRAIN_ER: 0.7318979276174683 --- VALID_ER: None\n",
      "Epoch 28 --- TRAIN_ER: 0.7319536082186154 --- VALID_ER: None\n",
      "Epoch 29 --- TRAIN_ER: 0.7320029450288039 --- VALID_ER: None\n",
      "Epoch 30 --- TRAIN_ER: 0.7320447234802278 --- VALID_ER: None\n",
      "Epoch 31 --- TRAIN_ER: 0.7320790618811391 --- VALID_ER: None\n",
      "Epoch 32 --- TRAIN_ER: 0.7321057246634252 --- VALID_ER: None\n",
      "Epoch 33 --- TRAIN_ER: 0.7321264818027314 --- VALID_ER: None\n",
      "Epoch 34 --- TRAIN_ER: 0.7321420968058147 --- VALID_ER: None\n",
      "Epoch 35 --- TRAIN_ER: 0.7321543162426644 --- VALID_ER: None\n",
      "Epoch 36 --- TRAIN_ER: 0.7321640786000024 --- VALID_ER: None\n",
      "Epoch 37 --- TRAIN_ER: 0.7321721906803271 --- VALID_ER: None\n",
      "Epoch 38 --- TRAIN_ER: 0.7321791739698262 --- VALID_ER: None\n",
      "Epoch 39 --- TRAIN_ER: 0.7321854002136551 --- VALID_ER: None\n",
      "Epoch 40 --- TRAIN_ER: 0.7321910773915451 --- VALID_ER: None\n",
      "Epoch 41 --- TRAIN_ER: 0.73219628793291 --- VALID_ER: None\n",
      "Epoch 42 --- TRAIN_ER: 0.7322010076891434 --- VALID_ER: None\n",
      "Epoch 43 --- TRAIN_ER: 0.7322051478096838 --- VALID_ER: None\n",
      "Epoch 44 --- TRAIN_ER: 0.7322086794479558 --- VALID_ER: None\n",
      "Epoch 45 --- TRAIN_ER: 0.7322115349737245 --- VALID_ER: None\n",
      "Epoch 46 --- TRAIN_ER: 0.7322135799867472 --- VALID_ER: None\n",
      "Epoch 47 --- TRAIN_ER: 0.7322147640582202 --- VALID_ER: None\n",
      "Epoch 48 --- TRAIN_ER: 0.7322150410122444 --- VALID_ER: None\n",
      "Epoch 49 --- TRAIN_ER: 0.7322142861604279 --- VALID_ER: None\n",
      "Epoch 50 --- TRAIN_ER: 0.7322123681288226 --- VALID_ER: None\n",
      "Epoch 51 --- TRAIN_ER: 0.7322092180920765 --- VALID_ER: None\n",
      "Epoch 52 --- TRAIN_ER: 0.732204895052193 --- VALID_ER: None\n",
      "Epoch 53 --- TRAIN_ER: 0.7321993818554017 --- VALID_ER: None\n",
      "Epoch 54 --- TRAIN_ER: 0.7321927053833631 --- VALID_ER: None\n",
      "Epoch 55 --- TRAIN_ER: 0.7321849442207634 --- VALID_ER: None\n",
      "Epoch 56 --- TRAIN_ER: 0.7321762245347648 --- VALID_ER: None\n",
      "Epoch 57 --- TRAIN_ER: 0.7321667032919299 --- VALID_ER: None\n",
      "Epoch 58 --- TRAIN_ER: 0.7321565447069139 --- VALID_ER: None\n",
      "Epoch 59 --- TRAIN_ER: 0.7321459041230336 --- VALID_ER: None\n",
      "Epoch 0 --- TRAIN_ER: 0.8855124189709124 --- VALID_ER: None\n",
      "Epoch 1 --- TRAIN_ER: 0.7521037162636292 --- VALID_ER: None\n",
      "Epoch 2 --- TRAIN_ER: 0.7209371484568045 --- VALID_ER: None\n",
      "Epoch 3 --- TRAIN_ER: 0.7060111478841392 --- VALID_ER: None\n",
      "Epoch 4 --- TRAIN_ER: 0.6978454828076833 --- VALID_ER: None\n",
      "Epoch 5 --- TRAIN_ER: 0.6930120399480165 --- VALID_ER: None\n",
      "Epoch 6 --- TRAIN_ER: 0.6898873501853109 --- VALID_ER: None\n",
      "Epoch 7 --- TRAIN_ER: 0.687692444740346 --- VALID_ER: None\n",
      "Epoch 8 --- TRAIN_ER: 0.6860409938325159 --- VALID_ER: None\n",
      "Epoch 9 --- TRAIN_ER: 0.6847379861008123 --- VALID_ER: None\n",
      "Epoch 10 --- TRAIN_ER: 0.6836780794159418 --- VALID_ER: None\n",
      "Epoch 11 --- TRAIN_ER: 0.6828020414709098 --- VALID_ER: None\n",
      "Epoch 12 --- TRAIN_ER: 0.6820718503951969 --- VALID_ER: None\n",
      "Epoch 13 --- TRAIN_ER: 0.6814599956995501 --- VALID_ER: None\n",
      "Epoch 14 --- TRAIN_ER: 0.6809414117182564 --- VALID_ER: None\n",
      "Epoch 15 --- TRAIN_ER: 0.6804966720948442 --- VALID_ER: None\n",
      "Epoch 16 --- TRAIN_ER: 0.680110858386855 --- VALID_ER: None\n",
      "Epoch 17 --- TRAIN_ER: 0.6797741259510904 --- VALID_ER: None\n",
      "Epoch 18 --- TRAIN_ER: 0.6794796474294144 --- VALID_ER: None\n",
      "Epoch 19 --- TRAIN_ER: 0.6792226412540225 --- VALID_ER: None\n",
      "Epoch 20 --- TRAIN_ER: 0.6790001963794895 --- VALID_ER: None\n",
      "Epoch 21 --- TRAIN_ER: 0.6788097796675898 --- VALID_ER: None\n",
      "Epoch 22 --- TRAIN_ER: 0.6786492776651913 --- VALID_ER: None\n",
      "Epoch 23 --- TRAIN_ER: 0.6785165338295414 --- VALID_ER: None\n",
      "Epoch 24 --- TRAIN_ER: 0.678410128675604 --- VALID_ER: None\n",
      "Epoch 25 --- TRAIN_ER: 0.6783290638352854 --- VALID_ER: None\n",
      "Epoch 26 --- TRAIN_ER: 0.6782715160574165 --- VALID_ER: None\n",
      "Epoch 27 --- TRAIN_ER: 0.6782347445561857 --- VALID_ER: None\n",
      "Epoch 28 --- TRAIN_ER: 0.6782166460585496 --- VALID_ER: None\n",
      "Epoch 29 --- TRAIN_ER: 0.6782142127305292 --- VALID_ER: None\n",
      "Epoch 30 --- TRAIN_ER: 0.678224217652652 --- VALID_ER: None\n"
     ]
    },
    {
     "name": "stdout",
     "output_type": "stream",
     "text": [
      "Epoch 31 --- TRAIN_ER: 0.6782437539363582 --- VALID_ER: None\n",
      "Epoch 32 --- TRAIN_ER: 0.6782695121903539 --- VALID_ER: None\n",
      "Epoch 33 --- TRAIN_ER: 0.6782988245299293 --- VALID_ER: None\n",
      "Epoch 34 --- TRAIN_ER: 0.6783288543488741 --- VALID_ER: None\n",
      "Epoch 35 --- TRAIN_ER: 0.6783576488250892 --- VALID_ER: None\n",
      "Epoch 36 --- TRAIN_ER: 0.6783832876952645 --- VALID_ER: None\n",
      "Epoch 37 --- TRAIN_ER: 0.678405060018136 --- VALID_ER: None\n",
      "Epoch 38 --- TRAIN_ER: 0.6784218899341373 --- VALID_ER: None\n",
      "Epoch 39 --- TRAIN_ER: 0.6784334987538089 --- VALID_ER: None\n",
      "Epoch 40 --- TRAIN_ER: 0.6784398289152078 --- VALID_ER: None\n",
      "Epoch 41 --- TRAIN_ER: 0.6784414032428345 --- VALID_ER: None\n",
      "Epoch 42 --- TRAIN_ER: 0.678438433565468 --- VALID_ER: None\n",
      "Epoch 43 --- TRAIN_ER: 0.6784316818458999 --- VALID_ER: None\n",
      "Epoch 44 --- TRAIN_ER: 0.6784219229444272 --- VALID_ER: None\n",
      "Epoch 45 --- TRAIN_ER: 0.6784095947528045 --- VALID_ER: None\n",
      "Epoch 46 --- TRAIN_ER: 0.6783951330378039 --- VALID_ER: None\n",
      "Epoch 47 --- TRAIN_ER: 0.6783788056271336 --- VALID_ER: None\n",
      "Epoch 48 --- TRAIN_ER: 0.6783612763857122 --- VALID_ER: None\n",
      "Epoch 49 --- TRAIN_ER: 0.6783431862117079 --- VALID_ER: None\n",
      "Epoch 50 --- TRAIN_ER: 0.678324659105737 --- VALID_ER: None\n",
      "Epoch 51 --- TRAIN_ER: 0.6783060373391941 --- VALID_ER: None\n",
      "Epoch 52 --- TRAIN_ER: 0.6782875325797832 --- VALID_ER: None\n",
      "Epoch 53 --- TRAIN_ER: 0.6782692879814657 --- VALID_ER: None\n",
      "Epoch 54 --- TRAIN_ER: 0.6782515507586487 --- VALID_ER: None\n",
      "Epoch 55 --- TRAIN_ER: 0.6782340835274978 --- VALID_ER: None\n",
      "Epoch 56 --- TRAIN_ER: 0.6782172007233498 --- VALID_ER: None\n",
      "Epoch 57 --- TRAIN_ER: 0.6782010305014188 --- VALID_ER: None\n",
      "Epoch 58 --- TRAIN_ER: 0.6781855883076161 --- VALID_ER: None\n",
      "Epoch 59 --- TRAIN_ER: 0.6781708531101229 --- VALID_ER: None\n"
     ]
    }
   ],
   "source": [
    "results = []\n",
    "for model in models:\n",
    "    results.append(model.fit(full_train, None, test, 60))"
   ]
  },
  {
   "cell_type": "code",
   "execution_count": 8,
   "metadata": {},
   "outputs": [
    {
     "name": "stdout",
     "output_type": "stream",
     "text": [
      "0.7537081243498287\n"
     ]
    }
   ],
   "source": [
    "total_result = np.zeros(results[0].shape)\n",
    "for idx, r in enumerate(results):\n",
    "    total_result += r\n",
    "total_result /= len(results)\n",
    "error = np.sqrt(((total_result[valid > 0] - valid[valid > 0]) ** 2).sum() / (valid > 0).sum())\n",
    "print(error)"
   ]
  },
  {
   "cell_type": "markdown",
   "metadata": {},
   "source": [
    "0.897892 --- 0.895933"
   ]
  },
  {
   "cell_type": "code",
   "execution_count": 9,
   "metadata": {},
   "outputs": [],
   "source": [
    "def make_submition(f_name, result):\n",
    "    with open(\"movie-recomendation-ts-spring-2020/test.txt\", 'r') as f_test:\n",
    "        with open(f_name, 'w') as sub_f:\n",
    "            sub_f.write(\"Id,Score\\n\")\n",
    "            for idx, line in enumerate(f_test):\n",
    "                target = tuple(int(e) for e in line.split('\\t'))\n",
    "                assert len(target) == 2\n",
    "                sub_f.write(f\"{idx+1},{result[target[0]-1, target[1]-1]}\\n\")"
   ]
  },
  {
   "cell_type": "code",
   "execution_count": 10,
   "metadata": {},
   "outputs": [],
   "source": [
    "make_submition(\"sub_bag.txt\", total_result)"
   ]
  },
  {
   "cell_type": "code",
   "execution_count": null,
   "metadata": {},
   "outputs": [],
   "source": []
  },
  {
   "cell_type": "code",
   "execution_count": null,
   "metadata": {},
   "outputs": [],
   "source": []
  },
  {
   "cell_type": "code",
   "execution_count": null,
   "metadata": {},
   "outputs": [],
   "source": []
  },
  {
   "cell_type": "code",
   "execution_count": null,
   "metadata": {},
   "outputs": [],
   "source": []
  },
  {
   "cell_type": "code",
   "execution_count": null,
   "metadata": {},
   "outputs": [],
   "source": []
  },
  {
   "cell_type": "code",
   "execution_count": null,
   "metadata": {},
   "outputs": [],
   "source": []
  },
  {
   "cell_type": "code",
   "execution_count": null,
   "metadata": {},
   "outputs": [],
   "source": []
  },
  {
   "cell_type": "code",
   "execution_count": null,
   "metadata": {},
   "outputs": [],
   "source": []
  }
 ],
 "metadata": {
  "kernelspec": {
   "display_name": "Python 3",
   "language": "python",
   "name": "python3"
  },
  "language_info": {
   "codemirror_mode": {
    "name": "ipython",
    "version": 3
   },
   "file_extension": ".py",
   "mimetype": "text/x-python",
   "name": "python",
   "nbconvert_exporter": "python",
   "pygments_lexer": "ipython3",
   "version": "3.7.5"
  }
 },
 "nbformat": 4,
 "nbformat_minor": 2
}
