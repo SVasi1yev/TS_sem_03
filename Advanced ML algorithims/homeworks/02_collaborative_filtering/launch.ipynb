{
 "cells": [
  {
   "cell_type": "code",
   "execution_count": null,
   "metadata": {},
   "outputs": [],
   "source": [
    "import numpy as np\n",
    "from IALS import IALS"
   ]
  },
  {
   "cell_type": "code",
   "execution_count": null,
   "metadata": {},
   "outputs": [],
   "source": [
    "!ls"
   ]
  },
  {
   "cell_type": "code",
   "execution_count": null,
   "metadata": {},
   "outputs": [],
   "source": [
    "full_train = np.load(\"np_full_train.npy\")\n",
    "train = np.load(\"np_train.npy\")\n",
    "valid = np.load(\"np_valid.npy\")\n",
    "test = np.load(\"np_test.npy\")"
   ]
  },
  {
   "cell_type": "code",
   "execution_count": null,
   "metadata": {},
   "outputs": [],
   "source": [
    "train.shape"
   ]
  },
  {
   "cell_type": "code",
   "execution_count": null,
   "metadata": {},
   "outputs": [],
   "source": [
    "test.shape"
   ]
  },
  {
   "cell_type": "code",
   "execution_count": null,
   "metadata": {},
   "outputs": [],
   "source": [
    "models = [\n",
    "    IALS(embedding_size=3, alpha=55, lambda_=5, eps=.11),\n",
    "    IALS(embedding_size=5, alpha=30, lambda_=6, eps=.13),\n",
    "    IALS(embedding_size=6, alpha=45, lambda_=7, eps=.15),\n",
    "    IALS(embedding_size=9, alpha=28, lambda_=3, eps=.15),\n",
    "    IALS(embedding_size=12, alpha=35, lambda_=3, eps=.13)\n",
    "]"
   ]
  },
  {
   "cell_type": "code",
   "execution_count": null,
   "metadata": {
    "scrolled": false
   },
   "outputs": [],
   "source": [
    "results = []\n",
    "for model in models:\n",
    "    results.append(model.fit(full_train, None, test, 60))"
   ]
  },
  {
   "cell_type": "code",
   "execution_count": null,
   "metadata": {},
   "outputs": [],
   "source": [
    "total_result = np.zeros(results[0].shape)\n",
    "for idx, r in enumerate(results):\n",
    "    total_result += r\n",
    "total_result /= len(results)\n",
    "error = np.sqrt(((total_result[valid > 0] - valid[valid > 0]) ** 2).sum() / (valid > 0).sum())\n",
    "print(error)"
   ]
  },
  {
   "cell_type": "markdown",
   "metadata": {},
   "source": [
    "0.895933"
   ]
  },
  {
   "cell_type": "code",
   "execution_count": null,
   "metadata": {},
   "outputs": [],
   "source": [
    "def make_submition(f_name, result):\n",
    "    with open(\"movie-recomendation-ts-spring-2020/test.txt\", 'r') as f_test:\n",
    "        with open(f_name, 'w') as sub_f:\n",
    "            sub_f.write(\"Id,Score\\n\")\n",
    "            for idx, line in enumerate(f_test):\n",
    "                target = tuple(int(e) for e in line.split('\\t'))\n",
    "                assert len(target) == 2\n",
    "                sub_f.write(f\"{idx+1},{result[target[0]-1, target[1]-1]}\\n\")"
   ]
  },
  {
   "cell_type": "code",
   "execution_count": null,
   "metadata": {},
   "outputs": [],
   "source": [
    "make_submition(\"sub_bag.txt\", total_result)"
   ]
  }
 ],
 "metadata": {
  "kernelspec": {
   "display_name": "Python 3",
   "language": "python",
   "name": "python3"
  },
  "language_info": {
   "codemirror_mode": {
    "name": "ipython",
    "version": 3
   },
   "file_extension": ".py",
   "mimetype": "text/x-python",
   "name": "python",
   "nbconvert_exporter": "python",
   "pygments_lexer": "ipython3",
   "version": "3.7.5"
  }
 },
 "nbformat": 4,
 "nbformat_minor": 2
}
